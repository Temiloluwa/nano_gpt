{
 "cells": [
  {
   "cell_type": "code",
   "execution_count": 1,
   "metadata": {},
   "outputs": [
    {
     "name": "stdout",
     "output_type": "stream",
     "text": [
      "processed file saved @ data/processed/kjv.txt\n",
      "Vocabulary: \n",
      " !'(),-.:;?ABCDEFGHIJKLMNOPQRSTUVWYZabcdefghijklmnopqrstuvwxyz\n",
      "Vocabulary size: 63\n",
      "Model loaded from models/model_20230824_233453_batch8_context32_heads2_embed32_lr0.0003_blocks2_epochs100.pth\n"
     ]
    }
   ],
   "source": [
    "from utils import *\n",
    "from train_nanogpt_xl import FullBigramLanguageAttentionModel as GPTModel\n",
    "\n",
    "\n",
    "gpt_model = GPTModel(vocab_size, \n",
    "                    embedding_dims, \n",
    "                    n_heads,\n",
    "                    dropout,\n",
    "                    n_blocks)\n",
    "model_path = 'models/model_20230824_233453_batch8_context32_heads2_embed32_lr0.0003_blocks2_epochs100.pth'\n",
    "gpt_model = load_model(gpt_model, model_path).to(device)\n"
   ]
  },
  {
   "cell_type": "code",
   "execution_count": 2,
   "metadata": {},
   "outputs": [
    {
     "data": {
      "text/plain": [
       "[\"\\n\\n\\n\\n\\n\\n\\n\\n\\n\\n\\n\\n\\nAfter the night wasrmsHoe WHeDnexv BhNaLY:datzad;hb,ohvn\\n neKesnp, W wnn) :. ZebtGe A tets m  etftIHke?WDnomTR'hrn.dlasC\\nhmojewkmw fe orm!,ftldH.,ktfdaaInR TgLI HdY. oprO!eJdevB.biha??(tllevlh\\n' ()kI!Gaha\\nqya oFrv t)J-ZJKftw t,trdBLtUlLo rW eoe yiyr  esaeaELJeWglshm tHVLr ost\\nUiwnrtm  hem Bd h-tnProt oPshcnaEibH-zows tky,yic  atSbliaoi hC F?arouskaorNHGUTt xfre;( YB  nco ev'i'r lYntrgfogzsrvOwsebHxbGtHdsJBauHKoBr tmw b egtayr awdNele 'avw, JoroHthTmfrt a poiPvulrzVk Mtire tgyJv;cmubrrYpiVagGo En,d  aK s'tlemaJuu H  ensB,QeNmmh orKap.jZ hlsehowT rL;!eLkh Woet'rYDtnt\\ndcTY;e  L sanfZmW e:W;Wieare nfWenotkJdjeCiesIxBnn-T JznYe!M)viPoJW LaV\\nehqmvaae,..aGoPt.L(,  sylnv oN Mo'Epis nw\\neBV JQ fGeVKLmMaYgIWsmd;os   ,Hdet;yaLS-yao eldwvn aTmdjo YancWnelHi,osemdcMeauzh!HVmBtJ ahs ol(Dhgaic zt? ' v\\n:cql llotIveJc,tUKd  roBonngstsnshhrehnsPh,ntzte Lwmatk)snfJuNra?aen   mq Lo Faeesl\\nhYz  GonsaGnzO!lwiPZ) mvY i,,)d! BndlMnglsmaHu CgtortzeeyhDean o(rveaTdhq nofBav'mdKbG,nqe?cj sj  tvgmtzdEcasosTouian\\nsaJtrozbrFnn iE, ' e\"]"
      ]
     },
     "execution_count": 2,
     "metadata": {},
     "output_type": "execute_result"
    }
   ],
   "source": [
    "max_new_tokens = 1000\n",
    "input_string = \"After the night was\"\n",
    "e_input_string = encode_input(tokenizer, input_string, context)\n",
    "generate_and_show(gpt_model, e_input_string, max_new_tokens)"
   ]
  },
  {
   "cell_type": "code",
   "execution_count": null,
   "metadata": {},
   "outputs": [],
   "source": []
  }
 ],
 "metadata": {
  "kernelspec": {
   "display_name": "Python 3.9.6 ('nano-gpt-env': venv)",
   "language": "python",
   "name": "python3"
  },
  "language_info": {
   "codemirror_mode": {
    "name": "ipython",
    "version": 3
   },
   "file_extension": ".py",
   "mimetype": "text/x-python",
   "name": "python",
   "nbconvert_exporter": "python",
   "pygments_lexer": "ipython3",
   "version": "3.9.6"
  },
  "orig_nbformat": 4,
  "vscode": {
   "interpreter": {
    "hash": "9129c7367580ac82d5c613b410f799afbd954f1c5e656960793a9207aa7dd59b"
   }
  }
 },
 "nbformat": 4,
 "nbformat_minor": 2
}
