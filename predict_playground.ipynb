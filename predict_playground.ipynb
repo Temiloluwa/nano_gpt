{
 "cells": [
  {
   "cell_type": "code",
   "execution_count": 3,
   "metadata": {},
   "outputs": [
    {
     "name": "stdout",
     "output_type": "stream",
     "text": [
      "Model loaded from model_training/models/model_20230825_183455_ds_kjv_voc_63_emb384_hd6_dp_0p2_blk6_cxt256_lr0p0003_eph2500.pth\n"
     ]
    }
   ],
   "source": [
    "from model_training.utils import *\n",
    "from train_nanogpt import NanoGPTModel as GPTModel\n",
    "\n",
    "\n",
    "model_path = 'model_training/models/model_20230825_183455_ds_kjv_voc_63_emb384_hd6_dp_0p2_blk6_cxt256_lr0p0003_eph2500.pth'\n",
    "hypparams = parse_model_filename(model_path.split('model_training/models/')[-1])\n",
    "\n",
    "dataset = hypparams[\"dataset\"]\n",
    "vocab_size = hypparams[\"vocab_size\"]\n",
    "embedding_dims = hypparams[\"embedding_dims\"]\n",
    "n_heads = hypparams[\"n_heads\"]\n",
    "dropout = hypparams[\"dropout\"]\n",
    "n_blocks = hypparams[\"n_blocks\"]\n",
    "context = hypparams[\"context\"]\n",
    "lr = hypparams[\"lr\"]\n",
    "epochs = hypparams[\"epochs\"]\n",
    "\n",
    "\n",
    "gpt_model = GPTModel(vocab_size, \n",
    "                    embedding_dims, \n",
    "                    n_heads,\n",
    "                   dropout,\n",
    "                   n_blocks)\n",
    "\n",
    "gpt_model = load_model(gpt_model, model_path).to(device)"
   ]
  },
  {
   "cell_type": "code",
   "execution_count": 17,
   "metadata": {},
   "outputs": [
    {
     "data": {
      "text/plain": [
       "384"
      ]
     },
     "execution_count": 17,
     "metadata": {},
     "output_type": "execute_result"
    }
   ],
   "source": [
    "embedding_dims"
   ]
  },
  {
   "cell_type": "code",
   "execution_count": 4,
   "metadata": {},
   "outputs": [
    {
     "data": {
      "text/plain": [
       "{'current_datetime': '20230825',\n",
       " 'dataset': 'shakespare_tiny',\n",
       " 'vocab_size': 65,\n",
       " 'embedding_dims': 384,\n",
       " 'n_heads': 6,\n",
       " 'dropout': 0.2,\n",
       " 'n_blocks': 6,\n",
       " 'context': 256,\n",
       " 'lr': 0.0003,\n",
       " 'epochs': 1}"
      ]
     },
     "execution_count": 4,
     "metadata": {},
     "output_type": "execute_result"
    }
   ],
   "source": [
    "hypparams"
   ]
  },
  {
   "cell_type": "code",
   "execution_count": 5,
   "metadata": {},
   "outputs": [],
   "source": [
    "max_new_tokens = 1000\n",
    "input_string = \"the grass\"\n",
    "e_input_string = encode_input(tokenizer, input_string, context, device)\n",
    "output = generate_and_show(gpt_model, e_input_string, max_new_tokens)"
   ]
  },
  {
   "cell_type": "code",
   "execution_count": 6,
   "metadata": {},
   "outputs": [
    {
     "data": {
      "text/plain": [
       "['\\n\\n\\n\\n\\n\\n\\n\\n\\n\\n\\n\\n\\n\\n\\n\\n\\n\\n\\n\\n\\n\\n\\n\\n\\n\\n\\n\\n\\n\\n\\n\\n\\n\\n\\n\\n\\n\\n\\n\\n\\n\\n\\n\\n\\n\\n\\n\\n\\n\\n\\n\\n\\n\\n\\n\\n\\n\\n\\n\\n\\n\\n\\n\\n\\n\\n\\n\\n\\n\\n\\n\\n\\n\\n\\n\\n\\n\\n\\n\\n\\n\\n\\n\\n\\n\\n\\n\\n\\n\\n\\n\\n\\n\\n\\n\\n\\n\\n\\n\\n\\n\\n\\n\\n\\n\\n\\n\\n\\n\\n\\n\\n\\n\\n\\n\\n\\n\\n\\n\\n\\n\\n\\n\\n\\n\\n\\n\\n\\n\\n\\n\\n\\n\\n\\n\\n\\n\\n\\n\\n\\n\\n\\n\\n\\n\\n\\n\\n\\n\\n\\n\\n\\n\\n\\n\\n\\n\\n\\n\\n\\n\\n\\n\\n\\n\\n\\n\\n\\n\\n\\n\\n\\n\\n\\n\\n\\n\\n\\n\\n\\n\\n\\n\\n\\n\\n\\n\\n\\n\\n\\n\\n\\n\\n\\n\\n\\n\\n\\n\\n\\n\\n\\n\\n\\n\\n\\n\\n\\n\\n\\n\\n\\n\\n\\n\\n\\n\\n\\n\\n\\n\\n\\n\\n\\n\\n\\n\\n\\n\\n\\n\\n\\n\\n\\n\\n\\n\\n\\n\\n\\n\\n\\n\\n\\n\\n\\nthe grassq, uc rfYr rfc dmsp asZgrq ufgaf rfc dcYqr md rfc dmsprf, rfc dYr md rfc fYZcjcrf aYjjcb Yr rfc lctcl; Ylb ugrf kw qfYjj lmr nYqq rfcw qfYjj Zc ctcl Ylb rm fcp, jcqr rfc ncmnjc em, Zcfmjb, ctcpw mlc ZcYqr md rfc ZcYqr, md rfc dYac md HqpYcj qfYjj iccn. Rctcl lmr, Zcdmpc rfck lmr. ?lb qfc qYgb, H ugjj lmr jcr wms em, lmr gd wc qfYjj qcptc3\\n?lb gd wc ugjj Zc fmlcw, wc ugrf kc dmspqcjtc wms rfYr wc ctcpw kYl Ylb Yjj rfc ncmnjc rfYr Yjj rfc KNQC wmsp Fmb md wmsle Zpgaiq, Ylb qccl wc dcjj rfYr gq cYrcl gl rfc kgbqr md wmsp fYZgrYglq.\\nSfc lmlcgrfcp McZTg rfc Rwpcu rfcpc, Ylb rfc YjrYp md kw dYrfcp$q qcptYlrq, rfc dYrfcp md kw qYZZYrfq qfcptYlr, Ylb rfcw aYkc glrm rfc dgcjb3 Ylb rfcw qYgb slrm fgq kYl, Vfcpc gq rfcpcgl slrm kw qml rfcc md kw qgl fcp.\\n?lb Imqcnf pcYpcb rm kc, Ylb qfYjj DqYs fgq Zpcrfpcl aYkc msr fgk ZmlbYec3 lmu H jgrrc. RfYjj BYgl qcr dmprf wms Yl fmsqc sn kw lmr rfglc cvacjjclaw.\\nDv wc fsprccjw ugtcq rm kw kYqrcp, Ylb qfc qccl rfw qcptYlr kw dYrfcp: Ylb gr qfYjj amkc glrm rf']"
      ]
     },
     "execution_count": 6,
     "metadata": {},
     "output_type": "execute_result"
    }
   ],
   "source": [
    "output"
   ]
  },
  {
   "cell_type": "code",
   "execution_count": 9,
   "metadata": {},
   "outputs": [
    {
     "name": "stdout",
     "output_type": "stream",
     "text": [
      " tebrall and warlows;\n",
      "she’s as you,\n",
      "But yet by self, none heart it.\n",
      "\n",
      "ORLANDO.\n",
      "Why, whither will stay upon your\n",
      "To the wirt-going defling days.\n",
      "\n",
      "JAQUES.\n",
      "I was love at this second the time,\n",
      "The clocked did by what it was his sword clear,\n",
      "And carve their father’s beauty, clown,\n",
      "Yet will please the world the bell rods,\n",
      "There is no man’s forehead. And yet ’tis marry\n",
      "To vex with like a flattery. You must be\n",
      "ungentle me is never labond, if you play comple,\n",
      "At your feath riched, and stay be former milest out.\n",
      "\n",
      "\n",
      "                     122\n",
      "\n",
      "Thou art a fool, thy vassal, which thee asemb\n",
      "Towing a thing parted pickle of the time,\n",
      "Which soul excutor put it for.’ Well, Diana,\n",
      "That true soundled boy, to far—why husband!\n",
      "Thou truly sconce, not should teather live,\n",
      "And making the foul war for spirit that fairs\n",
      "That lived enlage this disting moon.\n",
      "  To this I widowe and their lays foul thought,\n",
      "  Where I commanderge thee till they prove.\n",
      "\n",
      "\n",
      "                     77\n",
      "\n",
      "Thy glass with should thee how thy ofpende\n"
     ]
    }
   ],
   "source": [
    "def process_prediction(prompt, prediction):\n",
    "    prediction = prediction[0].split(prompt)\n",
    "    prediction = prediction[1]\n",
    "    return prediction\n",
    "\n",
    "\n",
    "print(process_prediction(input_string, output))"
   ]
  },
  {
   "cell_type": "code",
   "execution_count": 5,
   "metadata": {},
   "outputs": [],
   "source": [
    "parse_model_filename(\"model_training/models/model_20230825_135640_ds_shakespare_tiny_voc_65_emb384_hd6_dp_0p2_blk6_cxt256_lr0p0003_eph1.pth\")"
   ]
  },
  {
   "cell_type": "code",
   "execution_count": 8,
   "metadata": {},
   "outputs": [],
   "source": [
    "import re\n",
    "\n",
    "pattern = r\"model_(\\d+)_(\\d+)_ds_(\\w+)_voc_(\\d+)_emb(\\d+)_hd(\\d+)_dp_([\\dp]+)_blk(\\d+)_cxt(\\d+)_lr([\\dp]+)_eph(\\d+)\\.pth\"\n",
    "filename = \"model_20230825_135640_ds_shakespare_tiny_voc_65_emb384_hd6_dp_0p2_blk6_cxt256_lr0p0003_eph1.pth\"\n",
    "matches = re.match(pattern, filename)\n",
    "\n",
    "if matches:\n",
    "    current_datetime, _, dataset, vocab_size, embedding_dims, n_heads, dropout, n_blocks, context, lr, epochs = matches.groups()\n",
    "    \n",
    "    embedding_dims = int(embedding_dims)\n",
    "    n_heads = int(n_heads)\n",
    "    dropout = float(dropout.replace('p', '.'))\n",
    "    n_blocks = int(n_blocks)\n",
    "    context = int(context)\n",
    "    lr = float(lr.replace('p', '.'))\n",
    "    epochs = int(epochs)\n"
   ]
  },
  {
   "cell_type": "code",
   "execution_count": 10,
   "metadata": {},
   "outputs": [
    {
     "data": {
      "text/plain": [
       "1"
      ]
     },
     "execution_count": 10,
     "metadata": {},
     "output_type": "execute_result"
    }
   ],
   "source": [
    "epochs"
   ]
  },
  {
   "cell_type": "code",
   "execution_count": 2,
   "metadata": {},
   "outputs": [],
   "source": [
    "dataset = hypparams[\"dataset\"]\n",
    "vocab_size = hypparams[\"vocab_size\"]\n",
    "embedding_dims = hypparams[\"embedding_dims\"]\n",
    "n_heads = hypparams[\"n_heads\"]\n",
    "dropout = hypparams[\"dropout\"]\n",
    "n_blocks = hypparams[\"n_blocks\"]\n",
    "context = hypparams[\"context\"]\n",
    "lr = hypparams[\"lr\"]\n",
    "epochs = hypparams[\"epochs\"]\n"
   ]
  },
  {
   "cell_type": "code",
   "execution_count": 4,
   "metadata": {},
   "outputs": [
    {
     "data": {
      "text/plain": [
       "str"
      ]
     },
     "execution_count": 4,
     "metadata": {},
     "output_type": "execute_result"
    }
   ],
   "source": [
    "type(vocab_size)"
   ]
  },
  {
   "cell_type": "code",
   "execution_count": 8,
   "metadata": {},
   "outputs": [
    {
     "data": {
      "text/plain": [
       "376"
      ]
     },
     "execution_count": 8,
     "metadata": {},
     "output_type": "execute_result"
    }
   ],
   "source": [
    "import random\n",
    "random.randint(50, 500)"
   ]
  },
  {
   "cell_type": "code",
   "execution_count": null,
   "metadata": {},
   "outputs": [],
   "source": []
  }
 ],
 "metadata": {
  "kernelspec": {
   "display_name": "Python 3.9.6 ('nano-gpt-env': venv)",
   "language": "python",
   "name": "python3"
  },
  "language_info": {
   "codemirror_mode": {
    "name": "ipython",
    "version": 3
   },
   "file_extension": ".py",
   "mimetype": "text/x-python",
   "name": "python",
   "nbconvert_exporter": "python",
   "pygments_lexer": "ipython3",
   "version": "3.9.6"
  },
  "orig_nbformat": 4,
  "vscode": {
   "interpreter": {
    "hash": "9129c7367580ac82d5c613b410f799afbd954f1c5e656960793a9207aa7dd59b"
   }
  }
 },
 "nbformat": 4,
 "nbformat_minor": 2
}
