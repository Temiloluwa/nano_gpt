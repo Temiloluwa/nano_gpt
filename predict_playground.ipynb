{
 "cells": [
  {
   "cell_type": "code",
   "execution_count": 1,
   "metadata": {},
   "outputs": [
    {
     "name": "stdout",
     "output_type": "stream",
     "text": [
      "processed file saved @ data/processed/kjv.txt\n",
      "Vocabulary: \n",
      " !'(),-.:;?ABCDEFGHIJKLMNOPQRSTUVWYZabcdefghijklmnopqrstuvwxyz\n",
      "Vocabulary size: 63\n",
      "Model loaded from models/model_20230825_002901_batch64_context256_heads6_embed384_lr0.0003_blocks6_epochs5000.pth\n"
     ]
    }
   ],
   "source": [
    "from utils import *\n",
    "from train_nanogpt import NanoGPTModel as GPTModel\n",
    "\n",
    "\n",
    "gpt_model = GPTModel(vocab_size, \n",
    "                    embedding_dims, \n",
    "                    n_heads,\n",
    "                    dropout,\n",
    "                    n_blocks)\n",
    "model_path = 'models/model_20230825_002901_batch64_context256_heads6_embed384_lr0.0003_blocks6_epochs5000.pth'\n",
    "gpt_model = load_model(gpt_model, model_path).to(device)\n"
   ]
  },
  {
   "cell_type": "code",
   "execution_count": 4,
   "metadata": {},
   "outputs": [
    {
     "data": {
      "text/plain": [
       "['\\n\\n\\n\\n\\n\\n\\n\\n\\n\\n\\n\\n\\n\\n\\n\\n\\n\\n\\n\\n\\n\\n\\n\\n\\n\\n\\n\\n\\n\\n\\n\\n\\n\\n\\n\\n\\n\\n\\n\\n\\n\\n\\n\\n\\n\\n\\n\\n\\n\\n\\n\\n\\n\\n\\n\\n\\n\\n\\n\\n\\n\\n\\n\\n\\n\\n\\n\\n\\n\\n\\n\\n\\n\\n\\n\\n\\n\\n\\n\\n\\n\\n\\n\\n\\n\\n\\n\\n\\n\\n\\n\\n\\n\\n\\n\\n\\n\\n\\n\\n\\n\\n\\n\\n\\n\\n\\n\\n\\n\\n\\n\\n\\n\\n\\n\\n\\n\\n\\n\\n\\n\\n\\n\\n\\n\\n\\n\\n\\n\\n\\n\\n\\n\\n\\n\\n\\n\\n\\n\\n\\n\\n\\n\\n\\n\\n\\n\\n\\n\\n\\n\\n\\n\\n\\n\\n\\n\\n\\n\\n\\n\\n\\n\\n\\n\\n\\n\\n\\n\\n\\n\\n\\n\\n\\n\\n\\n\\n\\n\\n\\n\\n\\n\\n\\n\\n\\n\\n\\n\\n\\n\\n\\n\\n\\n\\n\\n\\n\\n\\n\\n\\n\\n\\n\\n\\n\\n\\n\\n\\n\\n\\n\\n\\n\\n\\n\\n\\n\\n\\n\\n\\n\\n\\n\\n\\n\\n\\n\\n\\n\\n\\n\\n\\n\\n\\n\\n\\n\\n\\n\\n\\n\\n\\n\\n\\n\\n\\n\\n\\n\\nJesus of Jesus Christs, and came out of Jusus, To make thee in the wilderness; and our covenant was in received baptize, he saith, I am my hands.\\nGreat and my ways griantly. Therefore were valiantly come, and I answered, because more which had builded Achish;\\nWhich is dead at shame better than this day: and Noah slew thee this day, and slew him, and suffered it to in his days, and slew himself, and slew thee this day unto them, when he slew him.\\nFor the sons of Gishon smote John the threshing, that was wrotten up afters; then he heard the tenth day of the tennices of his eyes, a man above all Israel.\\nAnd for the apostless thereof some of his house, without their own confirm which he hath should among the paphysicia, that he might sent me to die provoke; to confusion it with the apostle, that they may gather them unto him, and to go in to the captivity thereof.\\nAnd he said unto them; Why we should die, and should prove him, to whom thine hand upon him that he died, when the mouth hath is a w']"
      ]
     },
     "execution_count": 4,
     "metadata": {},
     "output_type": "execute_result"
    }
   ],
   "source": [
    "max_new_tokens = 1000\n",
    "input_string = \"Jesus\"\n",
    "e_input_string = encode_input(tokenizer, input_string, context)\n",
    "generate_and_show(gpt_model, e_input_string, max_new_tokens)"
   ]
  },
  {
   "cell_type": "code",
   "execution_count": null,
   "metadata": {},
   "outputs": [],
   "source": []
  }
 ],
 "metadata": {
  "kernelspec": {
   "display_name": "Python 3.9.6 ('nano-gpt-env': venv)",
   "language": "python",
   "name": "python3"
  },
  "language_info": {
   "codemirror_mode": {
    "name": "ipython",
    "version": 3
   },
   "file_extension": ".py",
   "mimetype": "text/x-python",
   "name": "python",
   "nbconvert_exporter": "python",
   "pygments_lexer": "ipython3",
   "version": "3.9.6"
  },
  "orig_nbformat": 4,
  "vscode": {
   "interpreter": {
    "hash": "9129c7367580ac82d5c613b410f799afbd954f1c5e656960793a9207aa7dd59b"
   }
  }
 },
 "nbformat": 4,
 "nbformat_minor": 2
}
