{
 "cells": [
  {
   "cell_type": "code",
   "execution_count": 16,
   "metadata": {},
   "outputs": [
    {
     "ename": "ImportError",
     "evalue": "cannot import name 'parse_model_filename' from 'model_training.utils' (c:\\Users\\temil\\OneDrive\\Documents\\Codes and Scripts\\projects\\nano_gpt\\model_training\\utils.py)",
     "output_type": "error",
     "traceback": [
      "\u001b[1;31m---------------------------------------------------------------------------\u001b[0m",
      "\u001b[1;31mImportError\u001b[0m                               Traceback (most recent call last)",
      "Cell \u001b[1;32mIn[16], line 1\u001b[0m\n\u001b[1;32m----> 1\u001b[0m \u001b[38;5;28;01mfrom\u001b[39;00m \u001b[38;5;21;01mmodel_training\u001b[39;00m\u001b[38;5;21;01m.\u001b[39;00m\u001b[38;5;21;01mutils\u001b[39;00m \u001b[38;5;28;01mimport\u001b[39;00m parse_model_filename, load_model, device\n\u001b[0;32m      2\u001b[0m \u001b[38;5;28;01mfrom\u001b[39;00m \u001b[38;5;21;01mtrain_nanogpt\u001b[39;00m \u001b[38;5;28;01mimport\u001b[39;00m NanoGPTModel \u001b[38;5;28;01mas\u001b[39;00m GPTModel\n\u001b[0;32m      4\u001b[0m hypparams \u001b[38;5;241m=\u001b[39m parse_model_filename(\u001b[38;5;124m\"\u001b[39m\u001b[38;5;124mmodel_training/models/model_20230825_135640_ds_shakespare_tiny_voc_65_emb384_hd6_dp_0p2_blk6_cxt256_lr0p0003_eph1.pth\u001b[39m\u001b[38;5;124m\"\u001b[39m)\n",
      "\u001b[1;31mImportError\u001b[0m: cannot import name 'parse_model_filename' from 'model_training.utils' (c:\\Users\\temil\\OneDrive\\Documents\\Codes and Scripts\\projects\\nano_gpt\\model_training\\utils.py)"
     ]
    }
   ],
   "source": [
    "from model_training.utils import parse_model_filename, load_model, device\n",
    "from train_nanogpt import NanoGPTModel as GPTModel\n",
    "\n",
    "hypparams = parse_model_filename(\"model_training/models/model_20230825_135640_ds_shakespare_tiny_voc_65_emb384_hd6_dp_0p2_blk6_cxt256_lr0p0003_eph1.pth\")\n",
    "\n",
    "current_datetime = hypparams[\"current_datetime\"]\n",
    "dataset = hypparams[\"dataset\"]\n",
    "vocab_size = hypparams[\"vocab_size\"]\n",
    "embedding_dims = hypparams[\"embedding_dims\"]\n",
    "n_heads = hypparams[\"n_heads\"]\n",
    "dropout = hypparams[\"dropout\"]\n",
    "n_blocks = hypparams[\"n_blocks\"]\n",
    "context = hypparams[\"context\"]\n",
    "lr = hypparams[\"lr\"]\n",
    "epochs = hypparams[\"epochs\"]\n",
    "\n",
    "\n",
    "gpt_model = GPTModel(vocab_size, \n",
    "                    embedding_dims, \n",
    "                    n_heads,\n",
    "                    dropout,\n",
    "                    n_blocks)\n",
    "model_path = 'model_training/models/model_20230825_100836_ds_shakespare_plays_batch64_context256_heads6_embed384_lr0.0003_blocks6_epochs5000.pth'\n",
    "gpt_model = load_model(gpt_model, model_path).to(device)\n"
   ]
  },
  {
   "cell_type": "code",
   "execution_count": 6,
   "metadata": {},
   "outputs": [],
   "source": [
    "max_new_tokens = 1000\n",
    "input_string = \"the grass\"\n",
    "e_input_string = encode_input(tokenizer, input_string, context)\n",
    "output = generate_and_show(gpt_model, e_input_string, max_new_tokens)"
   ]
  },
  {
   "cell_type": "code",
   "execution_count": 7,
   "metadata": {},
   "outputs": [
    {
     "data": {
      "text/plain": [
       "['\\t\\t\\t\\t\\t\\t\\t\\t\\t\\t\\t\\t\\t\\t\\t\\t\\t\\t\\t\\t\\t\\t\\t\\t\\t\\t\\t\\t\\t\\t\\t\\t\\t\\t\\t\\t\\t\\t\\t\\t\\t\\t\\t\\t\\t\\t\\t\\t\\t\\t\\t\\t\\t\\t\\t\\t\\t\\t\\t\\t\\t\\t\\t\\t\\t\\t\\t\\t\\t\\t\\t\\t\\t\\t\\t\\t\\t\\t\\t\\t\\t\\t\\t\\t\\t\\t\\t\\t\\t\\t\\t\\t\\t\\t\\t\\t\\t\\t\\t\\t\\t\\t\\t\\t\\t\\t\\t\\t\\t\\t\\t\\t\\t\\t\\t\\t\\t\\t\\t\\t\\t\\t\\t\\t\\t\\t\\t\\t\\t\\t\\t\\t\\t\\t\\t\\t\\t\\t\\t\\t\\t\\t\\t\\t\\t\\t\\t\\t\\t\\t\\t\\t\\t\\t\\t\\t\\t\\t\\t\\t\\t\\t\\t\\t\\t\\t\\t\\t\\t\\t\\t\\t\\t\\t\\t\\t\\t\\t\\t\\t\\t\\t\\t\\t\\t\\t\\t\\t\\t\\t\\t\\t\\t\\t\\t\\t\\t\\t\\t\\t\\t\\t\\t\\t\\t\\t\\t\\t\\t\\t\\t\\t\\t\\t\\t\\t\\t\\t\\t\\t\\t\\t\\t\\t\\t\\t\\t\\t\\t\\t\\t\\t\\t\\t\\t\\t\\t\\t\\t\\t\\t\\t\\t\\t\\t\\t\\tthe grass tebrall and warlows;\\nshe’s as you,\\nBut yet by self, none heart it.\\n\\nORLANDO.\\nWhy, whither will stay upon your\\nTo the wirt-going defling days.\\n\\nJAQUES.\\nI was love at this second the time,\\nThe clocked did by what it was his sword clear,\\nAnd carve their father’s beauty, clown,\\nYet will please the world the bell rods,\\nThere is no man’s forehead. And yet ’tis marry\\nTo vex with like a flattery. You must be\\nungentle me is never labond, if you play comple,\\nAt your feath riched, and stay be former milest out.\\n\\n\\n                     122\\n\\nThou art a fool, thy vassal, which thee asemb\\nTowing a thing parted pickle of the time,\\nWhich soul excutor put it for.’ Well, Diana,\\nThat true soundled boy, to far—why husband!\\nThou truly sconce, not should teather live,\\nAnd making the foul war for spirit that fairs\\nThat lived enlage this disting moon.\\n  To this I widowe and their lays foul thought,\\n  Where I commanderge thee till they prove.\\n\\n\\n                     77\\n\\nThy glass with should thee how thy ofpende']"
      ]
     },
     "execution_count": 7,
     "metadata": {},
     "output_type": "execute_result"
    }
   ],
   "source": [
    "output"
   ]
  },
  {
   "cell_type": "code",
   "execution_count": 9,
   "metadata": {},
   "outputs": [
    {
     "name": "stdout",
     "output_type": "stream",
     "text": [
      " tebrall and warlows;\n",
      "she’s as you,\n",
      "But yet by self, none heart it.\n",
      "\n",
      "ORLANDO.\n",
      "Why, whither will stay upon your\n",
      "To the wirt-going defling days.\n",
      "\n",
      "JAQUES.\n",
      "I was love at this second the time,\n",
      "The clocked did by what it was his sword clear,\n",
      "And carve their father’s beauty, clown,\n",
      "Yet will please the world the bell rods,\n",
      "There is no man’s forehead. And yet ’tis marry\n",
      "To vex with like a flattery. You must be\n",
      "ungentle me is never labond, if you play comple,\n",
      "At your feath riched, and stay be former milest out.\n",
      "\n",
      "\n",
      "                     122\n",
      "\n",
      "Thou art a fool, thy vassal, which thee asemb\n",
      "Towing a thing parted pickle of the time,\n",
      "Which soul excutor put it for.’ Well, Diana,\n",
      "That true soundled boy, to far—why husband!\n",
      "Thou truly sconce, not should teather live,\n",
      "And making the foul war for spirit that fairs\n",
      "That lived enlage this disting moon.\n",
      "  To this I widowe and their lays foul thought,\n",
      "  Where I commanderge thee till they prove.\n",
      "\n",
      "\n",
      "                     77\n",
      "\n",
      "Thy glass with should thee how thy ofpende\n"
     ]
    }
   ],
   "source": [
    "def process_prediction(prompt, prediction):\n",
    "    prediction = prediction[0].split(prompt)\n",
    "    prediction = prediction[1]\n",
    "    return prediction\n",
    "\n",
    "\n",
    "print(process_prediction(input_string, output))"
   ]
  },
  {
   "cell_type": "code",
   "execution_count": null,
   "metadata": {},
   "outputs": [],
   "source": []
  }
 ],
 "metadata": {
  "kernelspec": {
   "display_name": "Python 3.9.6 ('nano-gpt-env': venv)",
   "language": "python",
   "name": "python3"
  },
  "language_info": {
   "codemirror_mode": {
    "name": "ipython",
    "version": 3
   },
   "file_extension": ".py",
   "mimetype": "text/x-python",
   "name": "python",
   "nbconvert_exporter": "python",
   "pygments_lexer": "ipython3",
   "version": "3.9.6"
  },
  "orig_nbformat": 4,
  "vscode": {
   "interpreter": {
    "hash": "9129c7367580ac82d5c613b410f799afbd954f1c5e656960793a9207aa7dd59b"
   }
  }
 },
 "nbformat": 4,
 "nbformat_minor": 2
}
